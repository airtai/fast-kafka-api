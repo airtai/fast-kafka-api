{
 "cells": [
  {
   "cell_type": "markdown",
   "id": "f48d0afd",
   "metadata": {},
   "source": [
    "# First Steps"
   ]
  },
  {
   "cell_type": "code",
   "execution_count": null,
   "id": "ff734a78",
   "metadata": {},
   "outputs": [],
   "source": [
    "# | default_exp _example"
   ]
  },
  {
   "cell_type": "markdown",
   "id": "fd434418",
   "metadata": {},
   "source": [
    "## Creating a simple Kafka consumer app"
   ]
  },
  {
   "cell_type": "code",
   "execution_count": null,
   "id": "4a18cdd7",
   "metadata": {},
   "outputs": [],
   "source": [
    "import nest_asyncio\n",
    "\n",
    "nest_asyncio.apply()"
   ]
  },
  {
   "cell_type": "code",
   "execution_count": null,
   "id": "6e6b9432",
   "metadata": {},
   "outputs": [],
   "source": [
    "from os import environ\n",
    "\n",
    "kafka_server_url = environ[\"KAFKA_HOSTNAME\"]\n",
    "kafka_server_port = environ[\"KAFKA_PORT\"]"
   ]
  },
  {
   "cell_type": "code",
   "execution_count": null,
   "id": "503607c8",
   "metadata": {},
   "outputs": [],
   "source": [
    "from fast_kafka_api.application import FastKafkaAPI\n",
    "from fast_kafka_api.asyncapi import KafkaMessage\n",
    "from pydantic import Field, NonNegativeInt\n",
    "from fast_kafka_api.testing import true_after\n",
    "\n",
    "kafka_config = {\n",
    "    \"bootstrap.servers\": f\"{kafka_server_url}:{kafka_server_port}\",\n",
    "    # todo: ovo ide u decorators\n",
    "    \"group.id\": \"hello_consumer_group\",\n",
    "}\n",
    "\n",
    "\n",
    "class HelloKafkaMsg(KafkaMessage):\n",
    "    msg: str = Field(\n",
    "        ...,\n",
    "        example=\"Hello\",\n",
    "        description=\"Demo hello world message\",\n",
    "    )\n",
    "    code: int = Field(0, ge=0, description=\"mesagge code\")\n",
    "\n",
    "\n",
    "app = FastKafkaAPI(\n",
    "    kafka_config=kafka_config,\n",
    "#      group_id=\"hello_consumer_group\"\n",
    "#     async_doc_path=...,\n",
    "#     from_beggining=False,\n",
    "    shutdown_request_f=true_after(20)\n",
    ")\n",
    "\n",
    "@app.consumes(\"hello\")\n",
    "async def on_hello(msg: HelloKafkaMsg):\n",
    "    print(f\"Got data, msg={msg.msg}, code={code}\")"
   ]
  },
  {
   "cell_type": "raw",
   "id": "95365933",
   "metadata": {},
   "source": [
    "from tempfile import TemporaryDirectory() as d:\n",
    "    app_script =\"\"\"\n",
    "\n",
    "    \"\"\"\n",
    "cmd = \"python3 -m uvicorn --host=0.0.0.0 --port=6006 \""
   ]
  },
  {
   "cell_type": "code",
   "execution_count": null,
   "id": "ab4438ac",
   "metadata": {},
   "outputs": [],
   "source": []
  },
  {
   "cell_type": "raw",
   "id": "a4d9c4d9",
   "metadata": {},
   "source": [
    "import uvicorn\n",
    "\n",
    "uvicorn.run(app, host=\"0.0.0.0\", port=6006)"
   ]
  },
  {
   "cell_type": "code",
   "execution_count": null,
   "id": "f37883ac",
   "metadata": {},
   "outputs": [],
   "source": []
  },
  {
   "cell_type": "code",
   "execution_count": null,
   "id": "5847d5f0",
   "metadata": {},
   "outputs": [],
   "source": []
  },
  {
   "cell_type": "code",
   "execution_count": null,
   "id": "dd6d682f",
   "metadata": {},
   "outputs": [],
   "source": []
  },
  {
   "cell_type": "code",
   "execution_count": null,
   "id": "2df7b604",
   "metadata": {},
   "outputs": [],
   "source": []
  },
  {
   "cell_type": "code",
   "execution_count": null,
   "id": "9ad90bfd",
   "metadata": {},
   "outputs": [],
   "source": []
  },
  {
   "cell_type": "code",
   "execution_count": null,
   "id": "94fd30ff",
   "metadata": {},
   "outputs": [],
   "source": []
  },
  {
   "cell_type": "code",
   "execution_count": null,
   "id": "b064ab20",
   "metadata": {},
   "outputs": [],
   "source": []
  },
  {
   "cell_type": "code",
   "execution_count": null,
   "id": "778e02d3",
   "metadata": {},
   "outputs": [],
   "source": []
  },
  {
   "cell_type": "code",
   "execution_count": null,
   "id": "1eeea42c",
   "metadata": {},
   "outputs": [],
   "source": []
  },
  {
   "cell_type": "code",
   "execution_count": null,
   "id": "8d4eab01",
   "metadata": {},
   "outputs": [],
   "source": []
  },
  {
   "cell_type": "code",
   "execution_count": null,
   "id": "1c9418c0",
   "metadata": {},
   "outputs": [],
   "source": []
  },
  {
   "cell_type": "code",
   "execution_count": null,
   "id": "78029250",
   "metadata": {},
   "outputs": [],
   "source": []
  },
  {
   "cell_type": "code",
   "execution_count": null,
   "id": "37933f61",
   "metadata": {},
   "outputs": [],
   "source": []
  },
  {
   "cell_type": "markdown",
   "id": "9f3770bc",
   "metadata": {},
   "source": [
    "For our first demo we will create the simplest possible Kafka consumer and run it using uvicorn.\n",
    "\n",
    "The consumer will:\n",
    "\n",
    "    1. Connect to the Kafka Broker we setup in the Intro guide\n",
    "    2. Listen to the hello topic\n",
    "    3. Write any message received from the hello topic to stdout\n",
    "    \n",
    "To create the consumer, first, create a file named <b>hello_kafka_consumer.py</b> and copy the following code to it:\n",
    "\n",
    "```python\n",
    "from fast_kafka_api.application import FastKafkaAPI\n",
    "from fast_kafka_api.asyncapi import KafkaMessage\n",
    "from pydantic import Field\n",
    "\n",
    "kafka_config = {\n",
    "        \"bootstrap.servers\": \"localhost:9092\",\n",
    "        \"group.id\": \"hello_consumer_group\"\n",
    "    }\n",
    "\n",
    "class HelloKafkaMsg(KafkaMessage):\n",
    "    msg: str = Field(\n",
    "        ...,\n",
    "        example=\"Hello\",\n",
    "        description=\"Demo hello world message\",\n",
    "    )\n",
    "\n",
    "app = FastKafkaAPI(\n",
    "        kafka_config=kafka_config\n",
    "    )\n",
    "\n",
    "@app.consumes\n",
    "async def on_hello(msg: HelloKafkaMsg):\n",
    "    print(f\"Got data, msg={msg.msg}\")\n",
    "\n",
    "```\n",
    "\n",
    "To run this consumer, in your terminal, run:\n",
    "\n",
    "``` shell\n",
    "python3 -m uvicorn hello_kafka_consumer:app\n",
    "```\n",
    "\n",
    "After running the command, you should see something simmilar to the ouput below:\n",
    "\n",
    "``` shell\n",
    "[INFO] fast_kafka_api.asyncapi: ok\n",
    "INFO:     Started server process [942]\n",
    "INFO:     Waiting for application startup.\n",
    "[INFO] fast_kafka_api.asyncapi: Async specifications generated at: 'asyncapi/spec/asyncapi.yml'\n",
    "[INFO] fast_kafka_api.asyncapi: Async docs generated at 'asyncapi/docs'\n",
    "[INFO] fast_kafka_api.asyncapi: Output of '$ npx -y -p @asyncapi/generator ag asyncapi/spec/asyncapi.yml @asyncapi/html-template -o asyncapi/docs --force-write'\n",
    "\n",
    "Done! ✨\n",
    "Check out your shiny new generated files at /work/fast-kafka-api/demos/asyncapi/docs.\n",
    "\n",
    "\n",
    "%4|1670831653.286|CONFWARN|rdkafka#producer-1| [thrd:app]: Configuration property group.id is a consumer property and will be ignored by this producer instance\n",
    "[INFO] fast_kafka_api.application: consumers_async_loop(): Kafka admin created <confluent_kafka.admin.AdminClient object at 0x7fac996e7cc0>.\n",
    "[DEBUG] fast_kafka_api.confluent_kafka: create_missing_topics(['hello']): existing_topics=['prediction_request', '__consumer_offsets', 'hello', 'prediction_status', 'training_request', 'training_status', 'hello_world'], num_partitions=3, replication_factor=3\n",
    "[INFO] fast_kafka_api.application: consumers_async_loop(): Kafka topics ['hello'] created if needed.\n",
    "%4|1670831653.326|CONFWARN|rdkafka#producer-2| [thrd:app]: Configuration property group.id is a consumer property and will be ignored by this producer instance\n",
    "[INFO] fast_kafka_api.application: AIOProducer created.\n",
    "[INFO] fast_kafka_api.application: consumers_async_loop(topic=hello, config={'bootstrap.servers': 'tvrtko-fast-kafka-api-kafka-1:9092', 'group.id': 'hello_copnsumer_group'}, timeout=1.0) starting.\n",
    "[INFO] fast_kafka_api.application: consumers_async_loop(topic=hello): Kafka Consumer for topic created.\n",
    "[INFO] fast_kafka_api.application: consumers_async_loop(topic=hello): Kafka Consumer subscribed to topic.\n",
    "[DEBUG] fast_kafka_api.application: _consumer_pooling_step()\n",
    "INFO:     Application startup complete.\n",
    "INFO:     Uvicorn running on http://127.0.0.1:8000 (Press CTRL+C to quit)\n",
    "```\n",
    "\n",
    "Now you can interact with your consumer, by sending the messages to the subscribed 'hello' topic, don't worry, we will cover this in the next step of this guide."
   ]
  },
  {
   "cell_type": "markdown",
   "id": "d28903bc",
   "metadata": {},
   "source": [
    "## Sending first message to your consumer"
   ]
  },
  {
   "cell_type": "markdown",
   "id": "62de2731",
   "metadata": {},
   "source": [
    "After we have created and run our first consumer, we should send a message to it, to make sure it is working properly.\n",
    "\n",
    "If you are using the Kafka setup as described in the Intro guide, you can follow the steps listed here to send a message to the hello topic.\n",
    "\n",
    "First, connect to your running kafka broker by running:\n",
    "\n",
    "``` shell\n",
    "docker run -it kafka /bin/bash\n",
    "```\n",
    "\n",
    "Then, when connected to the container, run:\n",
    "\n",
    "``` shell\n",
    "kafka-console-producer.sh --bootstrap-server=localhost:9092 --topic=hello\n",
    "```\n",
    "\n",
    "This will open an interactive connection to the hello topic, now you can write your mesages to the topic and they will be consumed by our consumer.\n",
    "\n",
    "In the shell, type:\n",
    "``` shell\n",
    "{\"msg\":\"hello\"}\n",
    "```\n",
    "and press enter. This will send a hello message to the topic which will be read by our running consumer and outputed to stdout.\n",
    "\n",
    "Check the output of your consumer (terminal where you run the uvicorn command) and confirm that your consumer has read the Kafka message. You shoud see something like this:\n",
    "``` shell\n",
    "Got data, msg=hello\n",
    "```"
   ]
  },
  {
   "cell_type": "markdown",
   "id": "fc013025",
   "metadata": {},
   "source": [
    "## Creating a hello producer"
   ]
  },
  {
   "cell_type": "markdown",
   "id": "8859e06e",
   "metadata": {},
   "source": [
    "Consuming messages is only a part of this Library functionality, the other big part is producing the messages. So, let's create our first kafka producer which will send it's greetings to our consumer periodically.\n",
    "\n",
    "The producer will:\n",
    "\n",
    "    1. Connect to the Kafka Broker we setup in the Intro guide\n",
    "    2. Connect to the hello topic\n",
    "    3. Periodically send a message to the hello world topic\n",
    "    \n",
    "To create the producer, first, create a file named <b>hello_kafka_producer.py</b> and copy the following code to it:\n",
    "\n",
    "```python\n",
    "from fast_kafka_api.application import FastKafkaAPI\n",
    "from fast_kafka_api.asyncapi import KafkaMessage\n",
    "from pydantic import Field\n",
    "\n",
    "kafka_config = {\n",
    "        \"bootstrap.servers\": \"localhost:9092\",\n",
    "        \"group.id\": \"hello_producer_group\"\n",
    "    }\n",
    "\n",
    "class HelloKafkaMsg(KafkaMessage):\n",
    "    msg: str = Field(\n",
    "        ...,\n",
    "        example=\"Hello\",\n",
    "        description=\"Demo hello world message\",\n",
    "    )\n",
    "\n",
    "app = FastKafkaAPI(\n",
    "        kafka_config=kafka_config\n",
    "    )\n",
    "\n",
    "@app.produces\n",
    "async def on_hello(msg: HelloKafkaMsg):\n",
    "    return msg\n",
    "\n",
    "while(True):\n",
    "    sleep(2000)\n",
    "    on_hello(HelloKafkaMsg(msg = \"hello\"))\n",
    "```\n",
    "\n",
    "To run this producer, in your terminal, run:\n",
    "\n",
    "``` shell\n",
    "python3 -m uvicorn hello_kafka_producer:app\n",
    "```\n",
    "\n",
    "After running the command, you should see something simmilar to the ouput below:\n",
    "\n",
    "``` shell\n",
    "[INFO] fast_kafka_api.asyncapi: ok\n",
    "INFO:     Started server process [942]\n",
    "INFO:     Waiting for application startup.\n",
    "[INFO] fast_kafka_api.asyncapi: Async specifications generated at: 'asyncapi/spec/asyncapi.yml'\n",
    "[INFO] fast_kafka_api.asyncapi: Async docs generated at 'asyncapi/docs'\n",
    "[INFO] fast_kafka_api.asyncapi: Output of '$ npx -y -p @asyncapi/generator ag asyncapi/spec/asyncapi.yml @asyncapi/html-template -o asyncapi/docs --force-write'\n",
    "\n",
    "Done! ✨\n",
    "Check out your shiny new generated files at /work/fast-kafka-api/demos/asyncapi/docs.\n",
    "\n",
    "\n",
    "%4|1670831653.286|CONFWARN|rdkafka#producer-1| [thrd:app]: Configuration property group.id is a consumer property and will be ignored by this producer instance\n",
    "[INFO] fast_kafka_api.application: consumers_async_loop(): Kafka admin created <confluent_kafka.admin.AdminClient object at 0x7fac996e7cc0>.\n",
    "[DEBUG] fast_kafka_api.confluent_kafka: create_missing_topics(['hello']): existing_topics=['prediction_request', '__consumer_offsets', 'hello', 'prediction_status', 'training_request', 'training_status', 'hello_world'], num_partitions=3, replication_factor=3\n",
    "[INFO] fast_kafka_api.application: consumers_async_loop(): Kafka topics ['hello'] created if needed.\n",
    "%4|1670831653.326|CONFWARN|rdkafka#producer-2| [thrd:app]: Configuration property group.id is a consumer property and will be ignored by this producer instance\n",
    "[INFO] fast_kafka_api.application: AIOProducer created.\n",
    "[INFO] fast_kafka_api.application: consumers_async_loop(topic=hello, config={'bootstrap.servers': 'tvrtko-fast-kafka-api-kafka-1:9092', 'group.id': 'hello_copnsumer_group'}, timeout=1.0) starting.\n",
    "[INFO] fast_kafka_api.application: consumers_async_loop(topic=hello): Kafka Consumer for topic created.\n",
    "[INFO] fast_kafka_api.application: consumers_async_loop(topic=hello): Kafka Consumer subscribed to topic.\n",
    "[DEBUG] fast_kafka_api.application: _consumer_pooling_step()\n",
    "INFO:     Application startup complete.\n",
    "INFO:     Uvicorn running on http://127.0.0.1:8000 (Press CTRL+C to quit)\n",
    "```\n",
    "\n",
    "Now you can interact with your consumer, by sending the messages to the subscribed 'hello' topic, don't worry, we will cover this in the next step of this guide."
   ]
  },
  {
   "cell_type": "markdown",
   "id": "1286a108",
   "metadata": {},
   "source": [
    "## Recap"
   ]
  },
  {
   "cell_type": "markdown",
   "id": "f3409cc2",
   "metadata": {},
   "source": [
    "In this guide we have:\n",
    "    \n",
    "    1. Created a simple Kafka consumer using FastKafkaAPI\n",
    "    2. Sent a message to our consumer trough Kafka\n",
    "    3. Created a simple Kafka producer using FastKafkaAPI"
   ]
  },
  {
   "cell_type": "code",
   "execution_count": null,
   "id": "92f364b4",
   "metadata": {},
   "outputs": [],
   "source": []
  }
 ],
 "metadata": {
  "kernelspec": {
   "display_name": "Python 3 (ipykernel)",
   "language": "python",
   "name": "python3"
  }
 },
 "nbformat": 4,
 "nbformat_minor": 5
}
